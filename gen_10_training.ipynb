{
 "cells": [
  {
   "cell_type": "code",
   "execution_count": 54,
   "metadata": {},
   "outputs": [],
   "source": [
    "import torch\n",
    "import torch.nn as nn\n",
    "import torch.nn.functional as F\n",
    "import torch.optim as optim\n",
    "from torch.utils.data import TensorDataset, DataLoader"
   ]
  },
  {
   "cell_type": "code",
   "execution_count": 55,
   "metadata": {},
   "outputs": [],
   "source": [
    "import json\n",
    "import re\n",
    "import matplotlib.pyplot as plt"
   ]
  },
  {
   "cell_type": "code",
   "execution_count": 56,
   "metadata": {},
   "outputs": [],
   "source": [
    "from deep_rl import create_action_value_dict, create_value_action_dict, create_state, available_moves\n",
    "from player import Player\n",
    "from hand import YatzyHand"
   ]
  },
  {
   "cell_type": "code",
   "execution_count": 57,
   "metadata": {},
   "outputs": [],
   "source": [
    "device = 'cuda' if torch.cuda.is_available() else 'cpu'"
   ]
  },
  {
   "cell_type": "code",
   "execution_count": 58,
   "metadata": {},
   "outputs": [],
   "source": [
    "lr = 0.01"
   ]
  },
  {
   "cell_type": "code",
   "execution_count": 59,
   "metadata": {},
   "outputs": [],
   "source": [
    "loss_fn = F.cross_entropy"
   ]
  },
  {
   "cell_type": "code",
   "execution_count": 60,
   "metadata": {},
   "outputs": [],
   "source": [
    "value_dict = create_value_action_dict(Player())\n",
    "action_dict = create_action_value_dict(value_dict)"
   ]
  },
  {
   "cell_type": "markdown",
   "metadata": {},
   "source": [
    "## Setting Up Data"
   ]
  },
  {
   "cell_type": "code",
   "execution_count": 61,
   "metadata": {},
   "outputs": [],
   "source": [
    "inputs = []\n",
    "outputs = []\n",
    "\n",
    "def load(filename):\n",
    "    with open(f'sl_data/{filename}', 'r') as file:\n",
    "        data = json.load(file)\n",
    "\n",
    "    for key, value in data.items():\n",
    "        state = re.findall(f'\\d+', key)\n",
    "        state = [float(x) for x in state]\n",
    "        state = torch.tensor(state, device=device)\n",
    "        inputs.append(state)\n",
    "\n",
    "        move = action_dict[value]\n",
    "        outputs.append(torch.tensor(move, device=device))\n",
    "\n",
    "load('10.3_data.json')"
   ]
  },
  {
   "cell_type": "code",
   "execution_count": 62,
   "metadata": {},
   "outputs": [],
   "source": [
    "input_tensor = torch.stack(inputs)\n",
    "output_tensor = torch.stack(outputs)"
   ]
  },
  {
   "cell_type": "code",
   "execution_count": 63,
   "metadata": {},
   "outputs": [],
   "source": [
    "train_ds = TensorDataset(input_tensor, output_tensor)"
   ]
  },
  {
   "cell_type": "code",
   "execution_count": 64,
   "metadata": {},
   "outputs": [
    {
     "data": {
      "text/plain": [
       "72950"
      ]
     },
     "execution_count": 64,
     "metadata": {},
     "output_type": "execute_result"
    }
   ],
   "source": [
    "len(train_ds)"
   ]
  },
  {
   "cell_type": "code",
   "execution_count": 65,
   "metadata": {},
   "outputs": [],
   "source": [
    "train_dl = DataLoader(train_ds, batch_size=64, shuffle=True)"
   ]
  },
  {
   "cell_type": "markdown",
   "metadata": {},
   "source": [
    "## Helper Functions"
   ]
  },
  {
   "cell_type": "code",
   "execution_count": 66,
   "metadata": {},
   "outputs": [],
   "source": [
    "def plot_averages(averages, title):\n",
    "    plt.plot(range(len(averages)), averages)\n",
    "    plt.xlabel('Epoch')\n",
    "    plt.ylabel('Average score')\n",
    "    plt.title(title)\n",
    "    plt.ylim([0, 374])\n"
   ]
  },
  {
   "cell_type": "code",
   "execution_count": 67,
   "metadata": {},
   "outputs": [],
   "source": [
    "def nospace(str):\n",
    "    return ''.join([char for char in str if not char.isspace()])"
   ]
  },
  {
   "cell_type": "code",
   "execution_count": null,
   "metadata": {},
   "outputs": [],
   "source": []
  },
  {
   "cell_type": "markdown",
   "metadata": {},
   "source": [
    "## Model"
   ]
  },
  {
   "cell_type": "code",
   "execution_count": 68,
   "metadata": {},
   "outputs": [],
   "source": [
    "class Model_1(nn.Module):\n",
    "    def __init__(self):\n",
    "        super().__init__()\n",
    "        self.softmax = nn.Softmax(dim=0)\n",
    "        self.layer1 = nn.Linear(20, 64)\n",
    "        self.layer2 = nn.Linear(64, 32)\n",
    "        self.layer3 = nn.Linear(32, 46)\n",
    "    \n",
    "    def forward(self, x):\n",
    "        x = F.relu(self.layer1(x))\n",
    "        x = F.relu(self.layer2(x))\n",
    "        return self.softmax(self.layer3(x))"
   ]
  },
  {
   "cell_type": "code",
   "execution_count": 69,
   "metadata": {},
   "outputs": [],
   "source": [
    "class Model_2(nn.Module):\n",
    "    def __init__(self):\n",
    "        super().__init__()\n",
    "        self.softmax = nn.Softmax(dim=0)\n",
    "        self.layer1 = nn.Linear(20, 64)\n",
    "        self.layer2 = nn.Linear(64, 128)\n",
    "        self.layer3 = nn.Linear(128, 128)\n",
    "        self.layer4 = nn.Linear(128, 64)\n",
    "        self.layer5 = nn.Linear(64, 32)\n",
    "        self.layer6 = nn.Linear(32, 46)\n",
    "    \n",
    "    def forward(self, x):\n",
    "        x = F.relu(self.layer1(x))\n",
    "        x = F.relu(self.layer2(x))\n",
    "        x = F.relu(self.layer3(x))\n",
    "        x = F.relu(self.layer4(x))\n",
    "        x = F.relu(self.layer5(x))\n",
    "        return self.softmax(self.layer6(x))"
   ]
  },
  {
   "cell_type": "markdown",
   "metadata": {},
   "source": [
    "## Evaluation"
   ]
  },
  {
   "cell_type": "code",
   "execution_count": 70,
   "metadata": {},
   "outputs": [],
   "source": [
    "class EvalGame():\n",
    "    def __init__(self, player, num):\n",
    "        self.player = player\n",
    "        self.scores = []\n",
    "        self.num = num\n",
    "    \n",
    "    \n",
    "    def evaluate(self):\n",
    "        player = self.player\n",
    "\n",
    "        for i in range(self.num):\n",
    "            player.reset_scoresheet()\n",
    "\n",
    "            turns = 0\n",
    "            while turns < 15:\n",
    "                self.turn(player)\n",
    "                turns += 1\n",
    "            \n",
    "            score = player.calculate_score()\n",
    "            self.scores.append(score)\n",
    "\n",
    "    def turn(self, player):\n",
    "        hand = YatzyHand()\n",
    "\n",
    "        rerolls = 0\n",
    "        while rerolls < 2:\n",
    "\n",
    "            move = player.choose_move(hand, reroll=True)\n",
    "\n",
    "            if move >= 15:\n",
    "                rerolls += 1\n",
    "                indices = player.get_indices(move)\n",
    "\n",
    "                hand = hand.reroll(indices)\n",
    "            else:\n",
    "                break\n",
    "\n",
    "        move = player.choose_move(hand, reroll=False)\n",
    "\n",
    "        action = value_dict[move]\n",
    "\n",
    "        score = getattr(hand, action)()\n",
    "\n",
    "        player.update_scoresheet(action, score)\n",
    "        \n",
    "    def results(self):\n",
    "        return sum(self.scores) / len(self.scores)"
   ]
  },
  {
   "cell_type": "code",
   "execution_count": 83,
   "metadata": {},
   "outputs": [],
   "source": [
    "class EvalBot(Player):\n",
    "    def __init__(self):\n",
    "        super().__init__()\n",
    "        self.model = Model_1()\n",
    "    \n",
    "    def load(self, state_dict):\n",
    "        self.model.load_state_dict(state_dict)\n",
    "        self.model.eval()\n",
    "\n",
    "    def get_indices(self, action):\n",
    "        temp = re.findall(f'\\d', value_dict[action])\n",
    "        return [int(x) for x in temp]\n",
    "        \n",
    "    def available_moves(self, reroll=False):\n",
    "        final = []\n",
    "        i = 0\n",
    "        for key, value in self.scoresheet.items():\n",
    "            if value == None:\n",
    "                final.append(i)\n",
    "            i += 1\n",
    "        \n",
    "        if reroll:\n",
    "            for i in range(15, 46):\n",
    "                final.append(i)\n",
    "                i += 1\n",
    "                \n",
    "        return torch.tensor(final)\n",
    "\n",
    "\n",
    "    \n",
    "    def choose_move(self, hand, reroll=False):\n",
    "        state = create_state(self.scoresheet, hand)\n",
    "        options = self.available_moves(reroll=reroll)\n",
    "\n",
    "        with torch.no_grad():\n",
    "            \n",
    "            available_mask = torch.tensor(tuple(map(lambda x: x not in options, range(46))), device=device, dtype=torch.bool)\n",
    "            \n",
    "            results = model(state)\n",
    "            results[available_mask] = 0\n",
    "            \n",
    "            return torch.argmax(results).view(1).item()\n",
    "            "
   ]
  },
  {
   "cell_type": "code",
   "execution_count": 84,
   "metadata": {},
   "outputs": [],
   "source": [
    "def evaluate(num, state_dict):\n",
    "    # evaluates a model by having it play num games; pass in the state_dicts\n",
    "    #returns the average score over those games\n",
    "    \n",
    "    player = EvalBot()\n",
    "    player.load(state_dict)\n",
    "\n",
    "    game = EvalGame(player, num)\n",
    "\n",
    "    game.evaluate()\n",
    "\n",
    "    return game.results()"
   ]
  },
  {
   "cell_type": "markdown",
   "metadata": {},
   "source": [
    "## Training"
   ]
  },
  {
   "cell_type": "code",
   "execution_count": 85,
   "metadata": {},
   "outputs": [],
   "source": [
    "def get_model():\n",
    "    model = Model_1()\n",
    "    opt = optim.SGD(model.parameters(), lr = lr)\n",
    "    return model, opt"
   ]
  },
  {
   "cell_type": "code",
   "execution_count": 86,
   "metadata": {},
   "outputs": [],
   "source": [
    "def train(epochs, gen):\n",
    "    averages = []\n",
    "\n",
    "    start_avg = evaluate(100, model.state_dict())\n",
    "    print('Starting average: {}'.format(start_avg))\n",
    "    \n",
    "    for i in range(epochs):\n",
    "        \n",
    "        for x, y in train_dl:\n",
    "            preds = model(x)\n",
    "            loss = loss_fn(preds, y)\n",
    "\n",
    "            opt.zero_grad()\n",
    "            loss.backward()\n",
    "            opt.step()\n",
    "        \n",
    "        print('Epoch {} done'.format(i))\n",
    "        avg = evaluate(100, model.state_dict())\n",
    "        print('Average score: {}'.format(avg))\n",
    "        averages.append(avg)\n",
    "\n",
    "        torch.save(model.state_dict(), 'sl_models/gen_{}.pt'.format(gen))\n",
    "    \n",
    "    plot_averages(averages, 'Gen {} - 75k Datapoints (Filtered), 3 Layers, Shuffled Data'.format(gen))\n",
    "\n",
    "    \n",
    "        "
   ]
  },
  {
   "cell_type": "code",
   "execution_count": 87,
   "metadata": {},
   "outputs": [],
   "source": [
    "model, opt = get_model()\n"
   ]
  },
  {
   "cell_type": "code",
   "execution_count": 88,
   "metadata": {},
   "outputs": [
    {
     "name": "stdout",
     "output_type": "stream",
     "text": [
      "Starting average: 43.24\n",
      "Epoch 0 done\n",
      "Average score: 38.52\n",
      "Epoch 1 done\n",
      "Average score: 47.66\n",
      "Epoch 2 done\n",
      "Average score: 45.77\n",
      "Epoch 3 done\n",
      "Average score: 47.63\n",
      "Epoch 4 done\n",
      "Average score: 47.57\n",
      "Epoch 5 done\n",
      "Average score: 53.84\n",
      "Epoch 6 done\n",
      "Average score: 54.71\n",
      "Epoch 7 done\n",
      "Average score: 62.93\n",
      "Epoch 8 done\n",
      "Average score: 58.61\n",
      "Epoch 9 done\n",
      "Average score: 62.15\n",
      "Epoch 10 done\n",
      "Average score: 66.04\n",
      "Epoch 11 done\n",
      "Average score: 62.3\n",
      "Epoch 12 done\n",
      "Average score: 61.75\n",
      "Epoch 13 done\n",
      "Average score: 67.82\n",
      "Epoch 14 done\n",
      "Average score: 69.54\n",
      "Epoch 15 done\n",
      "Average score: 74.94\n",
      "Epoch 16 done\n",
      "Average score: 72.7\n",
      "Epoch 17 done\n",
      "Average score: 69.41\n",
      "Epoch 18 done\n",
      "Average score: 71.64\n",
      "Epoch 19 done\n",
      "Average score: 72.01\n",
      "Epoch 20 done\n",
      "Average score: 73.9\n",
      "Epoch 21 done\n",
      "Average score: 70.85\n",
      "Epoch 22 done\n",
      "Average score: 73.7\n",
      "Epoch 23 done\n",
      "Average score: 73.49\n",
      "Epoch 24 done\n",
      "Average score: 75.39\n",
      "Epoch 25 done\n",
      "Average score: 75.54\n",
      "Epoch 26 done\n",
      "Average score: 73.87\n",
      "Epoch 27 done\n",
      "Average score: 81.3\n",
      "Epoch 28 done\n",
      "Average score: 72.65\n",
      "Epoch 29 done\n",
      "Average score: 73.21\n",
      "Epoch 30 done\n",
      "Average score: 78.79\n",
      "Epoch 31 done\n",
      "Average score: 77.7\n",
      "Epoch 32 done\n",
      "Average score: 77.9\n",
      "Epoch 33 done\n",
      "Average score: 75.53\n",
      "Epoch 34 done\n",
      "Average score: 72.02\n",
      "Epoch 35 done\n",
      "Average score: 77.28\n",
      "Epoch 36 done\n",
      "Average score: 71.54\n",
      "Epoch 37 done\n",
      "Average score: 68.24\n",
      "Epoch 38 done\n",
      "Average score: 69.03\n",
      "Epoch 39 done\n",
      "Average score: 70.56\n",
      "Epoch 40 done\n",
      "Average score: 67.63\n",
      "Epoch 41 done\n",
      "Average score: 71.19\n",
      "Epoch 42 done\n",
      "Average score: 69.97\n",
      "Epoch 43 done\n",
      "Average score: 62.45\n",
      "Epoch 44 done\n",
      "Average score: 65.02\n",
      "Epoch 45 done\n",
      "Average score: 69.98\n",
      "Epoch 46 done\n",
      "Average score: 64.61\n",
      "Epoch 47 done\n",
      "Average score: 65.0\n",
      "Epoch 48 done\n",
      "Average score: 63.13\n",
      "Epoch 49 done\n",
      "Average score: 57.66\n"
     ]
    },
    {
     "data": {
      "image/png": "[encoded data removed]",
      "text/plain": [
       "<Figure size 432x288 with 1 Axes>"
      ]
     },
     "metadata": {
      "needs_background": "light"
     },
     "output_type": "display_data"
    }
   ],
   "source": [
    "train(50, '10.3.1')"
   ]
  },
  {
   "cell_type": "code",
   "execution_count": null,
   "metadata": {},
   "outputs": [],
   "source": []
  },
  {
   "cell_type": "code",
   "execution_count": null,
   "metadata": {},
   "outputs": [],
   "source": []
  }
 ],
 "metadata": {
  "interpreter": {
   "hash": "b2cabb87546583d089e0e7dc4e55b4bf60825fbd1f801f1fd57617645dbbf57f"
  },
  "kernelspec": {
   "display_name": "Python 3.9.12 ('rl')",
   "language": "python",
   "name": "python3"
  },
  "language_info": {
   "codemirror_mode": {
    "name": "ipython",
    "version": 3
   },
   "file_extension": ".py",
   "mimetype": "text/x-python",
   "name": "python",
   "nbconvert_exporter": "python",
   "pygments_lexer": "ipython3",
   "version": "3.9.12"
  },
  "orig_nbformat": 4
 },
 "nbformat": 4,
 "nbformat_minor": 2
}
